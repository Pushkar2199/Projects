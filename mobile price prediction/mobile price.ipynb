{
 "cells": [
  {
   "cell_type": "code",
   "execution_count": 422,
   "id": "2c88e79e",
   "metadata": {},
   "outputs": [],
   "source": [
    "import pandas as pd\n",
    "import numpy as np\n",
    "import matplotlib.pyplot as plt\n",
    "import seaborn as sns\n",
    "%matplotlib inline\n",
    "pd.pandas.set_option('display.max_columns',None)\n",
    "pd.pandas.set_option('display.max_rows',None)"
   ]
  },
  {
   "cell_type": "code",
   "execution_count": 423,
   "id": "fd36ecd7",
   "metadata": {},
   "outputs": [],
   "source": [
    "df = pd.read_csv(\"mobile_price_data.csv\")"
   ]
  },
  {
   "cell_type": "code",
   "execution_count": 424,
   "id": "76d7afb9",
   "metadata": {},
   "outputs": [
    {
     "data": {
      "text/html": [
       "<div>\n",
       "<style scoped>\n",
       "    .dataframe tbody tr th:only-of-type {\n",
       "        vertical-align: middle;\n",
       "    }\n",
       "\n",
       "    .dataframe tbody tr th {\n",
       "        vertical-align: top;\n",
       "    }\n",
       "\n",
       "    .dataframe thead th {\n",
       "        text-align: right;\n",
       "    }\n",
       "</style>\n",
       "<table border=\"1\" class=\"dataframe\">\n",
       "  <thead>\n",
       "    <tr style=\"text-align: right;\">\n",
       "      <th></th>\n",
       "      <th>mobile_name</th>\n",
       "      <th>mobile_price</th>\n",
       "      <th>mobile_color</th>\n",
       "      <th>dual_sim</th>\n",
       "      <th>disp_size</th>\n",
       "      <th>resolution</th>\n",
       "      <th>os</th>\n",
       "      <th>num_cores</th>\n",
       "      <th>mp_speed</th>\n",
       "      <th>int_memory</th>\n",
       "      <th>ram</th>\n",
       "      <th>p_cam</th>\n",
       "      <th>f_cam</th>\n",
       "      <th>network</th>\n",
       "      <th>bluetooth</th>\n",
       "      <th>battery_power</th>\n",
       "      <th>mob_width</th>\n",
       "      <th>mob_height</th>\n",
       "      <th>mob_depth</th>\n",
       "      <th>mob_weight</th>\n",
       "    </tr>\n",
       "  </thead>\n",
       "  <tbody>\n",
       "    <tr>\n",
       "      <th>0</th>\n",
       "      <td>Realme Narzo 10A (So White, 32 GB)</td>\n",
       "      <td>₹8,999</td>\n",
       "      <td>So White</td>\n",
       "      <td>Dual Sim</td>\n",
       "      <td>16.56 cm (6.52 inch)</td>\n",
       "      <td>1600 x 720 Pixels</td>\n",
       "      <td>Android 10</td>\n",
       "      <td>Octa Core</td>\n",
       "      <td>2 GHz</td>\n",
       "      <td>32 GB</td>\n",
       "      <td>3 GB</td>\n",
       "      <td>12MP + 2MP + 2MP</td>\n",
       "      <td>5MP Front Camera</td>\n",
       "      <td>4G VOLTE, 4G, 3G, 2G</td>\n",
       "      <td>Yes</td>\n",
       "      <td>5000 mAh</td>\n",
       "      <td>75 mm</td>\n",
       "      <td>164.4 mm</td>\n",
       "      <td>8.95 mm</td>\n",
       "      <td>195 g</td>\n",
       "    </tr>\n",
       "    <tr>\n",
       "      <th>1</th>\n",
       "      <td>Realme Narzo 10A (So Blue, 32 GB)</td>\n",
       "      <td>₹8,999</td>\n",
       "      <td>So Blue</td>\n",
       "      <td>Dual Sim</td>\n",
       "      <td>16.56 cm (6.52 inch)</td>\n",
       "      <td>1600 x 720 Pixels</td>\n",
       "      <td>Android 10</td>\n",
       "      <td>Octa Core</td>\n",
       "      <td>2 GHz</td>\n",
       "      <td>32 GB</td>\n",
       "      <td>3 GB</td>\n",
       "      <td>12MP + 2MP + 2MP</td>\n",
       "      <td>5MP Front Camera</td>\n",
       "      <td>4G VOLTE, 4G, 3G, 2G</td>\n",
       "      <td>Yes</td>\n",
       "      <td>5000 mAh</td>\n",
       "      <td>75 mm</td>\n",
       "      <td>164.4 mm</td>\n",
       "      <td>8.95 mm</td>\n",
       "      <td>195 g</td>\n",
       "    </tr>\n",
       "    <tr>\n",
       "      <th>2</th>\n",
       "      <td>Realme Narzo 10A (So Blue, 64 GB)</td>\n",
       "      <td>₹9,999</td>\n",
       "      <td>So Blue</td>\n",
       "      <td>Dual Sim</td>\n",
       "      <td>16.56 cm (6.52 inch)</td>\n",
       "      <td>1600 x 720 Pixels</td>\n",
       "      <td>Android 10</td>\n",
       "      <td>Octa Core</td>\n",
       "      <td>2 GHz</td>\n",
       "      <td>64 GB</td>\n",
       "      <td>4 GB</td>\n",
       "      <td>12MP + 2MP + 2MP</td>\n",
       "      <td>5MP Front Camera</td>\n",
       "      <td>4G VOLTE, 4G, 3G, 2G</td>\n",
       "      <td>Yes</td>\n",
       "      <td>5000 mAh</td>\n",
       "      <td>75 mm</td>\n",
       "      <td>164.4 mm</td>\n",
       "      <td>8.95 mm</td>\n",
       "      <td>195 g</td>\n",
       "    </tr>\n",
       "    <tr>\n",
       "      <th>3</th>\n",
       "      <td>Realme Narzo 10A (So White, 64 GB)</td>\n",
       "      <td>₹9,999</td>\n",
       "      <td>So White</td>\n",
       "      <td>Dual Sim</td>\n",
       "      <td>16.56 cm (6.52 inch)</td>\n",
       "      <td>1600 x 720 Pixels</td>\n",
       "      <td>Android 10</td>\n",
       "      <td>Octa Core</td>\n",
       "      <td>2 GHz</td>\n",
       "      <td>64 GB</td>\n",
       "      <td>4 GB</td>\n",
       "      <td>12MP + 2MP + 2MP</td>\n",
       "      <td>5MP Front Camera</td>\n",
       "      <td>4G VOLTE, 4G, 3G, 2G</td>\n",
       "      <td>Yes</td>\n",
       "      <td>5000 mAh</td>\n",
       "      <td>75 mm</td>\n",
       "      <td>164.4 mm</td>\n",
       "      <td>8.95 mm</td>\n",
       "      <td>195 g</td>\n",
       "    </tr>\n",
       "    <tr>\n",
       "      <th>4</th>\n",
       "      <td>Realme Narzo 10 (That Green, 128 GB)</td>\n",
       "      <td>₹11,999</td>\n",
       "      <td>That Green</td>\n",
       "      <td>Dual Sim</td>\n",
       "      <td>16.51 cm (6.5 inch)</td>\n",
       "      <td>1600 x 720 Pixels</td>\n",
       "      <td>Android 10</td>\n",
       "      <td>Octa Core</td>\n",
       "      <td>2 GHz</td>\n",
       "      <td>128 GB</td>\n",
       "      <td>4 GB</td>\n",
       "      <td>48MP + 8MP + 2MP + 2MP</td>\n",
       "      <td>16MP Front Camera</td>\n",
       "      <td>4G VOLTE, 4G, 3G, 2G</td>\n",
       "      <td>Yes</td>\n",
       "      <td>5000 mAh</td>\n",
       "      <td>75.4 mm</td>\n",
       "      <td>164.4 mm</td>\n",
       "      <td>9 mm</td>\n",
       "      <td>199 g</td>\n",
       "    </tr>\n",
       "  </tbody>\n",
       "</table>\n",
       "</div>"
      ],
      "text/plain": [
       "                            mobile_name mobile_price mobile_color  dual_sim  \\\n",
       "0    Realme Narzo 10A (So White, 32 GB)       ₹8,999     So White  Dual Sim   \n",
       "1     Realme Narzo 10A (So Blue, 32 GB)       ₹8,999      So Blue  Dual Sim   \n",
       "2     Realme Narzo 10A (So Blue, 64 GB)       ₹9,999      So Blue  Dual Sim   \n",
       "3    Realme Narzo 10A (So White, 64 GB)       ₹9,999     So White  Dual Sim   \n",
       "4  Realme Narzo 10 (That Green, 128 GB)      ₹11,999   That Green  Dual Sim   \n",
       "\n",
       "              disp_size         resolution          os  num_cores mp_speed  \\\n",
       "0  16.56 cm (6.52 inch)  1600 x 720 Pixels  Android 10  Octa Core    2 GHz   \n",
       "1  16.56 cm (6.52 inch)  1600 x 720 Pixels  Android 10  Octa Core    2 GHz   \n",
       "2  16.56 cm (6.52 inch)  1600 x 720 Pixels  Android 10  Octa Core    2 GHz   \n",
       "3  16.56 cm (6.52 inch)  1600 x 720 Pixels  Android 10  Octa Core    2 GHz   \n",
       "4   16.51 cm (6.5 inch)  1600 x 720 Pixels  Android 10  Octa Core    2 GHz   \n",
       "\n",
       "  int_memory   ram                   p_cam              f_cam  \\\n",
       "0      32 GB  3 GB        12MP + 2MP + 2MP   5MP Front Camera   \n",
       "1      32 GB  3 GB        12MP + 2MP + 2MP   5MP Front Camera   \n",
       "2      64 GB  4 GB        12MP + 2MP + 2MP   5MP Front Camera   \n",
       "3      64 GB  4 GB        12MP + 2MP + 2MP   5MP Front Camera   \n",
       "4     128 GB  4 GB  48MP + 8MP + 2MP + 2MP  16MP Front Camera   \n",
       "\n",
       "                network bluetooth battery_power mob_width mob_height  \\\n",
       "0  4G VOLTE, 4G, 3G, 2G       Yes      5000 mAh     75 mm   164.4 mm   \n",
       "1  4G VOLTE, 4G, 3G, 2G       Yes      5000 mAh     75 mm   164.4 mm   \n",
       "2  4G VOLTE, 4G, 3G, 2G       Yes      5000 mAh     75 mm   164.4 mm   \n",
       "3  4G VOLTE, 4G, 3G, 2G       Yes      5000 mAh     75 mm   164.4 mm   \n",
       "4  4G VOLTE, 4G, 3G, 2G       Yes      5000 mAh   75.4 mm   164.4 mm   \n",
       "\n",
       "  mob_depth mob_weight  \n",
       "0   8.95 mm      195 g  \n",
       "1   8.95 mm      195 g  \n",
       "2   8.95 mm      195 g  \n",
       "3   8.95 mm      195 g  \n",
       "4      9 mm      199 g  "
      ]
     },
     "execution_count": 424,
     "metadata": {},
     "output_type": "execute_result"
    }
   ],
   "source": [
    "df.head()"
   ]
  },
  {
   "cell_type": "code",
   "execution_count": 425,
   "id": "d0ee1703",
   "metadata": {},
   "outputs": [
    {
     "data": {
      "text/plain": [
       "(459, 20)"
      ]
     },
     "execution_count": 425,
     "metadata": {},
     "output_type": "execute_result"
    }
   ],
   "source": [
    "df.shape"
   ]
  },
  {
   "cell_type": "code",
   "execution_count": 426,
   "id": "7c4f9d11",
   "metadata": {},
   "outputs": [
    {
     "data": {
      "text/plain": [
       "mobile_name      0\n",
       "mobile_price     0\n",
       "mobile_color     0\n",
       "dual_sim         0\n",
       "disp_size        0\n",
       "resolution       0\n",
       "os               0\n",
       "num_cores        0\n",
       "mp_speed         0\n",
       "int_memory       0\n",
       "ram              0\n",
       "p_cam            0\n",
       "f_cam            0\n",
       "network          0\n",
       "bluetooth        0\n",
       "battery_power    0\n",
       "mob_width        0\n",
       "mob_height       0\n",
       "mob_depth        0\n",
       "mob_weight       0\n",
       "dtype: int64"
      ]
     },
     "execution_count": 426,
     "metadata": {},
     "output_type": "execute_result"
    }
   ],
   "source": [
    "df.isnull().sum()"
   ]
  },
  {
   "cell_type": "code",
   "execution_count": 427,
   "id": "434a3b12",
   "metadata": {},
   "outputs": [
    {
     "data": {
      "text/html": [
       "<div>\n",
       "<style scoped>\n",
       "    .dataframe tbody tr th:only-of-type {\n",
       "        vertical-align: middle;\n",
       "    }\n",
       "\n",
       "    .dataframe tbody tr th {\n",
       "        vertical-align: top;\n",
       "    }\n",
       "\n",
       "    .dataframe thead th {\n",
       "        text-align: right;\n",
       "    }\n",
       "</style>\n",
       "<table border=\"1\" class=\"dataframe\">\n",
       "  <thead>\n",
       "    <tr style=\"text-align: right;\">\n",
       "      <th></th>\n",
       "      <th>mobile_name</th>\n",
       "      <th>mobile_price</th>\n",
       "      <th>mobile_color</th>\n",
       "      <th>dual_sim</th>\n",
       "      <th>disp_size</th>\n",
       "      <th>resolution</th>\n",
       "      <th>os</th>\n",
       "      <th>num_cores</th>\n",
       "      <th>mp_speed</th>\n",
       "      <th>int_memory</th>\n",
       "      <th>ram</th>\n",
       "      <th>p_cam</th>\n",
       "      <th>f_cam</th>\n",
       "      <th>network</th>\n",
       "      <th>bluetooth</th>\n",
       "      <th>battery_power</th>\n",
       "      <th>mob_width</th>\n",
       "      <th>mob_height</th>\n",
       "      <th>mob_depth</th>\n",
       "      <th>mob_weight</th>\n",
       "    </tr>\n",
       "  </thead>\n",
       "  <tbody>\n",
       "    <tr>\n",
       "      <th>count</th>\n",
       "      <td>459</td>\n",
       "      <td>459</td>\n",
       "      <td>459</td>\n",
       "      <td>459</td>\n",
       "      <td>459</td>\n",
       "      <td>459</td>\n",
       "      <td>459</td>\n",
       "      <td>459</td>\n",
       "      <td>459</td>\n",
       "      <td>459</td>\n",
       "      <td>459</td>\n",
       "      <td>459</td>\n",
       "      <td>459</td>\n",
       "      <td>459</td>\n",
       "      <td>459</td>\n",
       "      <td>459</td>\n",
       "      <td>459</td>\n",
       "      <td>459</td>\n",
       "      <td>459</td>\n",
       "      <td>459</td>\n",
       "    </tr>\n",
       "    <tr>\n",
       "      <th>unique</th>\n",
       "      <td>363</td>\n",
       "      <td>139</td>\n",
       "      <td>165</td>\n",
       "      <td>2</td>\n",
       "      <td>36</td>\n",
       "      <td>48</td>\n",
       "      <td>18</td>\n",
       "      <td>3</td>\n",
       "      <td>18</td>\n",
       "      <td>7</td>\n",
       "      <td>7</td>\n",
       "      <td>49</td>\n",
       "      <td>15</td>\n",
       "      <td>18</td>\n",
       "      <td>1</td>\n",
       "      <td>34</td>\n",
       "      <td>70</td>\n",
       "      <td>81</td>\n",
       "      <td>55</td>\n",
       "      <td>62</td>\n",
       "    </tr>\n",
       "    <tr>\n",
       "      <th>top</th>\n",
       "      <td>Vivo Z1Pro (Sonic Black, 64 GB)</td>\n",
       "      <td>₹11,999</td>\n",
       "      <td>Black</td>\n",
       "      <td>Dual Sim</td>\n",
       "      <td>16.51 cm (6.5 inch)</td>\n",
       "      <td>2340 x 1080 pixels</td>\n",
       "      <td>Android Pie 9</td>\n",
       "      <td>Octa Core</td>\n",
       "      <td>2 GHz</td>\n",
       "      <td>64 GB</td>\n",
       "      <td>4 GB</td>\n",
       "      <td>13MP + 2MP</td>\n",
       "      <td>16MP Front Camera</td>\n",
       "      <td>3G, 4G VOLTE, 4G, 2G</td>\n",
       "      <td>Yes</td>\n",
       "      <td>4000 mAh</td>\n",
       "      <td>75.6 mm</td>\n",
       "      <td>156.7 mm</td>\n",
       "      <td>8.8 mm</td>\n",
       "      <td>191 g</td>\n",
       "    </tr>\n",
       "    <tr>\n",
       "      <th>freq</th>\n",
       "      <td>4</td>\n",
       "      <td>19</td>\n",
       "      <td>28</td>\n",
       "      <td>458</td>\n",
       "      <td>51</td>\n",
       "      <td>66</td>\n",
       "      <td>126</td>\n",
       "      <td>444</td>\n",
       "      <td>149</td>\n",
       "      <td>185</td>\n",
       "      <td>160</td>\n",
       "      <td>72</td>\n",
       "      <td>112</td>\n",
       "      <td>139</td>\n",
       "      <td>459</td>\n",
       "      <td>135</td>\n",
       "      <td>35</td>\n",
       "      <td>23</td>\n",
       "      <td>48</td>\n",
       "      <td>27</td>\n",
       "    </tr>\n",
       "  </tbody>\n",
       "</table>\n",
       "</div>"
      ],
      "text/plain": [
       "                            mobile_name mobile_price mobile_color  dual_sim  \\\n",
       "count                               459          459          459       459   \n",
       "unique                              363          139          165         2   \n",
       "top     Vivo Z1Pro (Sonic Black, 64 GB)      ₹11,999        Black  Dual Sim   \n",
       "freq                                  4           19           28       458   \n",
       "\n",
       "                  disp_size          resolution             os  num_cores  \\\n",
       "count                   459                 459            459        459   \n",
       "unique                   36                  48             18          3   \n",
       "top     16.51 cm (6.5 inch)  2340 x 1080 pixels  Android Pie 9  Octa Core   \n",
       "freq                     51                  66            126        444   \n",
       "\n",
       "       mp_speed int_memory   ram       p_cam              f_cam  \\\n",
       "count       459        459   459         459                459   \n",
       "unique       18          7     7          49                 15   \n",
       "top       2 GHz      64 GB  4 GB  13MP + 2MP  16MP Front Camera   \n",
       "freq        149        185   160          72                112   \n",
       "\n",
       "                     network bluetooth battery_power mob_width mob_height  \\\n",
       "count                    459       459           459       459        459   \n",
       "unique                    18         1            34        70         81   \n",
       "top     3G, 4G VOLTE, 4G, 2G       Yes      4000 mAh   75.6 mm   156.7 mm   \n",
       "freq                     139       459           135        35         23   \n",
       "\n",
       "       mob_depth mob_weight  \n",
       "count        459        459  \n",
       "unique        55         62  \n",
       "top       8.8 mm      191 g  \n",
       "freq          48         27  "
      ]
     },
     "execution_count": 427,
     "metadata": {},
     "output_type": "execute_result"
    }
   ],
   "source": [
    "df.describe()"
   ]
  },
  {
   "cell_type": "markdown",
   "id": "5feed6d0",
   "metadata": {},
   "source": []
  },
  {
   "cell_type": "code",
   "execution_count": 428,
   "id": "34f7327d",
   "metadata": {},
   "outputs": [],
   "source": [
    "df[\"mobile_price\"] = pd.to_numeric(df[\"mobile_price\"] .replace('[^0-9\\.-]','',regex = True))"
   ]
  },
  {
   "cell_type": "code",
   "execution_count": 429,
   "id": "13f2b6b8",
   "metadata": {
    "scrolled": true
   },
   "outputs": [
    {
     "data": {
      "text/html": [
       "<div>\n",
       "<style scoped>\n",
       "    .dataframe tbody tr th:only-of-type {\n",
       "        vertical-align: middle;\n",
       "    }\n",
       "\n",
       "    .dataframe tbody tr th {\n",
       "        vertical-align: top;\n",
       "    }\n",
       "\n",
       "    .dataframe thead th {\n",
       "        text-align: right;\n",
       "    }\n",
       "</style>\n",
       "<table border=\"1\" class=\"dataframe\">\n",
       "  <thead>\n",
       "    <tr style=\"text-align: right;\">\n",
       "      <th></th>\n",
       "      <th>mobile_name</th>\n",
       "      <th>mobile_price</th>\n",
       "      <th>mobile_color</th>\n",
       "      <th>dual_sim</th>\n",
       "      <th>disp_size</th>\n",
       "      <th>resolution</th>\n",
       "      <th>os</th>\n",
       "      <th>num_cores</th>\n",
       "      <th>mp_speed</th>\n",
       "      <th>int_memory</th>\n",
       "      <th>ram</th>\n",
       "      <th>p_cam</th>\n",
       "      <th>f_cam</th>\n",
       "      <th>network</th>\n",
       "      <th>bluetooth</th>\n",
       "      <th>battery_power</th>\n",
       "      <th>mob_width</th>\n",
       "      <th>mob_height</th>\n",
       "      <th>mob_depth</th>\n",
       "      <th>mob_weight</th>\n",
       "    </tr>\n",
       "  </thead>\n",
       "  <tbody>\n",
       "    <tr>\n",
       "      <th>0</th>\n",
       "      <td>Realme Narzo 10A (So White, 32 GB)</td>\n",
       "      <td>8999</td>\n",
       "      <td>So White</td>\n",
       "      <td>Dual Sim</td>\n",
       "      <td>16.56 cm (6.52 inch)</td>\n",
       "      <td>1600 x 720 Pixels</td>\n",
       "      <td>Android 10</td>\n",
       "      <td>Octa Core</td>\n",
       "      <td>2 GHz</td>\n",
       "      <td>32 GB</td>\n",
       "      <td>3 GB</td>\n",
       "      <td>12MP + 2MP + 2MP</td>\n",
       "      <td>5MP Front Camera</td>\n",
       "      <td>4G VOLTE, 4G, 3G, 2G</td>\n",
       "      <td>Yes</td>\n",
       "      <td>5000 mAh</td>\n",
       "      <td>75 mm</td>\n",
       "      <td>164.4 mm</td>\n",
       "      <td>8.95 mm</td>\n",
       "      <td>195 g</td>\n",
       "    </tr>\n",
       "    <tr>\n",
       "      <th>1</th>\n",
       "      <td>Realme Narzo 10A (So Blue, 32 GB)</td>\n",
       "      <td>8999</td>\n",
       "      <td>So Blue</td>\n",
       "      <td>Dual Sim</td>\n",
       "      <td>16.56 cm (6.52 inch)</td>\n",
       "      <td>1600 x 720 Pixels</td>\n",
       "      <td>Android 10</td>\n",
       "      <td>Octa Core</td>\n",
       "      <td>2 GHz</td>\n",
       "      <td>32 GB</td>\n",
       "      <td>3 GB</td>\n",
       "      <td>12MP + 2MP + 2MP</td>\n",
       "      <td>5MP Front Camera</td>\n",
       "      <td>4G VOLTE, 4G, 3G, 2G</td>\n",
       "      <td>Yes</td>\n",
       "      <td>5000 mAh</td>\n",
       "      <td>75 mm</td>\n",
       "      <td>164.4 mm</td>\n",
       "      <td>8.95 mm</td>\n",
       "      <td>195 g</td>\n",
       "    </tr>\n",
       "    <tr>\n",
       "      <th>2</th>\n",
       "      <td>Realme Narzo 10A (So Blue, 64 GB)</td>\n",
       "      <td>9999</td>\n",
       "      <td>So Blue</td>\n",
       "      <td>Dual Sim</td>\n",
       "      <td>16.56 cm (6.52 inch)</td>\n",
       "      <td>1600 x 720 Pixels</td>\n",
       "      <td>Android 10</td>\n",
       "      <td>Octa Core</td>\n",
       "      <td>2 GHz</td>\n",
       "      <td>64 GB</td>\n",
       "      <td>4 GB</td>\n",
       "      <td>12MP + 2MP + 2MP</td>\n",
       "      <td>5MP Front Camera</td>\n",
       "      <td>4G VOLTE, 4G, 3G, 2G</td>\n",
       "      <td>Yes</td>\n",
       "      <td>5000 mAh</td>\n",
       "      <td>75 mm</td>\n",
       "      <td>164.4 mm</td>\n",
       "      <td>8.95 mm</td>\n",
       "      <td>195 g</td>\n",
       "    </tr>\n",
       "    <tr>\n",
       "      <th>3</th>\n",
       "      <td>Realme Narzo 10A (So White, 64 GB)</td>\n",
       "      <td>9999</td>\n",
       "      <td>So White</td>\n",
       "      <td>Dual Sim</td>\n",
       "      <td>16.56 cm (6.52 inch)</td>\n",
       "      <td>1600 x 720 Pixels</td>\n",
       "      <td>Android 10</td>\n",
       "      <td>Octa Core</td>\n",
       "      <td>2 GHz</td>\n",
       "      <td>64 GB</td>\n",
       "      <td>4 GB</td>\n",
       "      <td>12MP + 2MP + 2MP</td>\n",
       "      <td>5MP Front Camera</td>\n",
       "      <td>4G VOLTE, 4G, 3G, 2G</td>\n",
       "      <td>Yes</td>\n",
       "      <td>5000 mAh</td>\n",
       "      <td>75 mm</td>\n",
       "      <td>164.4 mm</td>\n",
       "      <td>8.95 mm</td>\n",
       "      <td>195 g</td>\n",
       "    </tr>\n",
       "    <tr>\n",
       "      <th>4</th>\n",
       "      <td>Realme Narzo 10 (That Green, 128 GB)</td>\n",
       "      <td>11999</td>\n",
       "      <td>That Green</td>\n",
       "      <td>Dual Sim</td>\n",
       "      <td>16.51 cm (6.5 inch)</td>\n",
       "      <td>1600 x 720 Pixels</td>\n",
       "      <td>Android 10</td>\n",
       "      <td>Octa Core</td>\n",
       "      <td>2 GHz</td>\n",
       "      <td>128 GB</td>\n",
       "      <td>4 GB</td>\n",
       "      <td>48MP + 8MP + 2MP + 2MP</td>\n",
       "      <td>16MP Front Camera</td>\n",
       "      <td>4G VOLTE, 4G, 3G, 2G</td>\n",
       "      <td>Yes</td>\n",
       "      <td>5000 mAh</td>\n",
       "      <td>75.4 mm</td>\n",
       "      <td>164.4 mm</td>\n",
       "      <td>9 mm</td>\n",
       "      <td>199 g</td>\n",
       "    </tr>\n",
       "  </tbody>\n",
       "</table>\n",
       "</div>"
      ],
      "text/plain": [
       "                            mobile_name  mobile_price mobile_color  dual_sim  \\\n",
       "0    Realme Narzo 10A (So White, 32 GB)          8999     So White  Dual Sim   \n",
       "1     Realme Narzo 10A (So Blue, 32 GB)          8999      So Blue  Dual Sim   \n",
       "2     Realme Narzo 10A (So Blue, 64 GB)          9999      So Blue  Dual Sim   \n",
       "3    Realme Narzo 10A (So White, 64 GB)          9999     So White  Dual Sim   \n",
       "4  Realme Narzo 10 (That Green, 128 GB)         11999   That Green  Dual Sim   \n",
       "\n",
       "              disp_size         resolution          os  num_cores mp_speed  \\\n",
       "0  16.56 cm (6.52 inch)  1600 x 720 Pixels  Android 10  Octa Core    2 GHz   \n",
       "1  16.56 cm (6.52 inch)  1600 x 720 Pixels  Android 10  Octa Core    2 GHz   \n",
       "2  16.56 cm (6.52 inch)  1600 x 720 Pixels  Android 10  Octa Core    2 GHz   \n",
       "3  16.56 cm (6.52 inch)  1600 x 720 Pixels  Android 10  Octa Core    2 GHz   \n",
       "4   16.51 cm (6.5 inch)  1600 x 720 Pixels  Android 10  Octa Core    2 GHz   \n",
       "\n",
       "  int_memory   ram                   p_cam              f_cam  \\\n",
       "0      32 GB  3 GB        12MP + 2MP + 2MP   5MP Front Camera   \n",
       "1      32 GB  3 GB        12MP + 2MP + 2MP   5MP Front Camera   \n",
       "2      64 GB  4 GB        12MP + 2MP + 2MP   5MP Front Camera   \n",
       "3      64 GB  4 GB        12MP + 2MP + 2MP   5MP Front Camera   \n",
       "4     128 GB  4 GB  48MP + 8MP + 2MP + 2MP  16MP Front Camera   \n",
       "\n",
       "                network bluetooth battery_power mob_width mob_height  \\\n",
       "0  4G VOLTE, 4G, 3G, 2G       Yes      5000 mAh     75 mm   164.4 mm   \n",
       "1  4G VOLTE, 4G, 3G, 2G       Yes      5000 mAh     75 mm   164.4 mm   \n",
       "2  4G VOLTE, 4G, 3G, 2G       Yes      5000 mAh     75 mm   164.4 mm   \n",
       "3  4G VOLTE, 4G, 3G, 2G       Yes      5000 mAh     75 mm   164.4 mm   \n",
       "4  4G VOLTE, 4G, 3G, 2G       Yes      5000 mAh   75.4 mm   164.4 mm   \n",
       "\n",
       "  mob_depth mob_weight  \n",
       "0   8.95 mm      195 g  \n",
       "1   8.95 mm      195 g  \n",
       "2   8.95 mm      195 g  \n",
       "3   8.95 mm      195 g  \n",
       "4      9 mm      199 g  "
      ]
     },
     "execution_count": 429,
     "metadata": {},
     "output_type": "execute_result"
    }
   ],
   "source": [
    "df.head()"
   ]
  },
  {
   "cell_type": "code",
   "execution_count": null,
   "id": "348d63ce",
   "metadata": {},
   "outputs": [],
   "source": []
  },
  {
   "cell_type": "code",
   "execution_count": 430,
   "id": "4a71c04c",
   "metadata": {},
   "outputs": [
    {
     "data": {
      "text/plain": [
       "mobile_name      object\n",
       "mobile_price      int64\n",
       "mobile_color     object\n",
       "dual_sim         object\n",
       "disp_size        object\n",
       "resolution       object\n",
       "os               object\n",
       "num_cores        object\n",
       "mp_speed         object\n",
       "int_memory       object\n",
       "ram              object\n",
       "p_cam            object\n",
       "f_cam            object\n",
       "network          object\n",
       "bluetooth        object\n",
       "battery_power    object\n",
       "mob_width        object\n",
       "mob_height       object\n",
       "mob_depth        object\n",
       "mob_weight       object\n",
       "dtype: object"
      ]
     },
     "execution_count": 430,
     "metadata": {},
     "output_type": "execute_result"
    }
   ],
   "source": [
    "df.dtypes"
   ]
  },
  {
   "cell_type": "code",
   "execution_count": 431,
   "id": "63138f83",
   "metadata": {},
   "outputs": [],
   "source": [
    "features = [feature for feature in df.columns ]"
   ]
  },
  {
   "cell_type": "code",
   "execution_count": 432,
   "id": "6a052e9c",
   "metadata": {},
   "outputs": [],
   "source": [
    "d = {}\n",
    "for i in features :\n",
    "    d[i] = df[i].nunique() "
   ]
  },
  {
   "cell_type": "code",
   "execution_count": 433,
   "id": "3794f4e9",
   "metadata": {},
   "outputs": [
    {
     "data": {
      "text/plain": [
       "{'mobile_name': 363,\n",
       " 'mobile_price': 139,\n",
       " 'mobile_color': 165,\n",
       " 'dual_sim': 2,\n",
       " 'disp_size': 36,\n",
       " 'resolution': 48,\n",
       " 'os': 18,\n",
       " 'num_cores': 3,\n",
       " 'mp_speed': 18,\n",
       " 'int_memory': 7,\n",
       " 'ram': 7,\n",
       " 'p_cam': 49,\n",
       " 'f_cam': 15,\n",
       " 'network': 18,\n",
       " 'bluetooth': 1,\n",
       " 'battery_power': 34,\n",
       " 'mob_width': 70,\n",
       " 'mob_height': 81,\n",
       " 'mob_depth': 55,\n",
       " 'mob_weight': 62}"
      ]
     },
     "execution_count": 433,
     "metadata": {},
     "output_type": "execute_result"
    }
   ],
   "source": [
    "d"
   ]
  },
  {
   "cell_type": "code",
   "execution_count": 434,
   "id": "a481eb54",
   "metadata": {},
   "outputs": [
    {
     "data": {
      "text/plain": [
       "Yes    459\n",
       "Name: bluetooth, dtype: int64"
      ]
     },
     "execution_count": 434,
     "metadata": {},
     "output_type": "execute_result"
    }
   ],
   "source": [
    "df.bluetooth.value_counts()"
   ]
  },
  {
   "cell_type": "code",
   "execution_count": 435,
   "id": "970490c3",
   "metadata": {},
   "outputs": [
    {
     "data": {
      "text/plain": [
       "16.51 cm (6.5 inch)      51\n",
       "15.8 cm (6.22 inch)      50\n",
       "16.0 cm (6.3 inch)       38\n",
       "15.21 cm (5.99 inch)     35\n",
       "16.94 cm (6.67 inch)     33\n",
       "16.26 cm (6.4 inch)      24\n",
       "16.59 cm (6.53 inch)     21\n",
       "15.75 cm (6.2 inch)      21\n",
       "16.23 cm (6.39 inch)     17\n",
       "16.13 cm (6.35 inch)     14\n",
       "16.76 cm (6.6 inch)      14\n",
       "16.21 cm (6.38 inch)     12\n",
       "13.97 cm (5.5 inch)      12\n",
       "15.7 cm (6.18 inch)      11\n",
       "15.49 cm (6.1 inch)      11\n",
       "16.36 cm (6.44 inch)     11\n",
       "14.48 cm (5.7 inch)      10\n",
       "16.56 cm (6.52 inch)      8\n",
       "14.35 cm (5.65 inch)      7\n",
       "16.69 cm (6.57 inch)      7\n",
       "15.9 cm (6.26 inch)       7\n",
       "15.24 cm (6 inch)         6\n",
       "13.84 cm (5.45 inch)      5\n",
       "12.7 cm (5 inch)          4\n",
       "16.28 cm (6.41 inch)      4\n",
       "13.21 cm (5.2 inch)       3\n",
       "15.77 cm (6.21 inch)      3\n",
       "15.46 cm (6.088 inch)     3\n",
       "15.19 cm (5.98 inch)      3\n",
       "15.44 cm (6.08 inch)      3\n",
       "15.72 cm (6.19 inch)      3\n",
       "15.82 cm (6.23 inch)      2\n",
       "15.06 cm (5.93 inch)      2\n",
       "17.02 cm (6.7 inch)       2\n",
       "16.74 cm (6.59 inch)      1\n",
       "11.94 cm (4.7 inch)       1\n",
       "Name: disp_size, dtype: int64"
      ]
     },
     "execution_count": 435,
     "metadata": {},
     "output_type": "execute_result"
    }
   ],
   "source": [
    "df.disp_size.value_counts()"
   ]
  },
  {
   "cell_type": "code",
   "execution_count": 436,
   "id": "1e74f46e",
   "metadata": {},
   "outputs": [
    {
     "data": {
      "text/plain": [
       "2340 x 1080 pixels     66\n",
       "2400 x 1080 Pixels     49\n",
       "1520 x 720 pixels      36\n",
       "1600 x 720 Pixels      26\n",
       "1520 x 720 Pixels      26\n",
       "1080 x 2340 Pixels     19\n",
       "720 x 1600 Pixels      18\n",
       "2160 x 1080 pixels     17\n",
       "2160 x 1080 Pixels     17\n",
       "1440 x 720 Pixels      15\n",
       "2340 x 1080 Pixels     12\n",
       "1440 x 720 pixels      12\n",
       "720 x 1544 Pixels      11\n",
       "2400 × 1080 Pixels     11\n",
       "1280 x 720 Pixels       9\n",
       "2280 x 1080 pixels      9\n",
       "1560 x 720 pixels       8\n",
       "1080 x 2160 pixels      7\n",
       "1080 x 2340 pixels      6\n",
       "2400 x 1080 pixel       6\n",
       "2280 x 1080 Pixels      6\n",
       "1560 x 720 Pixels       6\n",
       "2280 x 1080$$Pixels     5\n",
       "1500 x 720 pixels       5\n",
       "1080 x 2400 Pixels      5\n",
       "1520 x 720$$pixel       5\n",
       "2340 x 1080 Pixel       4\n",
       "1520 x 720$$Pixels      4\n",
       "720*1440 Pixels         3\n",
       "1080 x 1920 Pixels      3\n",
       "720 x 1520 pixels       3\n",
       "1280 x 720 pixels       3\n",
       "720 x 1440 Pixels       3\n",
       "720 x 1544 pixels       3\n",
       "1920 x 1080 pixels      3\n",
       "2400 x 1080 Pixel       2\n",
       "1920 x 1080 Pixels      2\n",
       "2340 x 1080$$pixel      2\n",
       "2340 x 1080$$Pixel      2\n",
       "1440 x 720 Pixel        2\n",
       "720 x 1560 pixels       1\n",
       "2400 x 1080$$pixel      1\n",
       "540 x 960 Pixels        1\n",
       "960 x 540 Pixels        1\n",
       "1520 x 720$pixels       1\n",
       "1520 x 720$$ pixels     1\n",
       "2316 x 1080 pixels      1\n",
       "720 x 1280              1\n",
       "Name: resolution, dtype: int64"
      ]
     },
     "execution_count": 436,
     "metadata": {},
     "output_type": "execute_result"
    }
   ],
   "source": [
    "df.resolution.value_counts()"
   ]
  },
  {
   "cell_type": "code",
   "execution_count": 437,
   "id": "21fd4b9e",
   "metadata": {},
   "outputs": [
    {
     "data": {
      "text/plain": [
       "Octa Core      444\n",
       "Quad Core       14\n",
       "Single Core      1\n",
       "Name: num_cores, dtype: int64"
      ]
     },
     "execution_count": 437,
     "metadata": {},
     "output_type": "execute_result"
    }
   ],
   "source": [
    "df.num_cores.value_counts()"
   ]
  },
  {
   "cell_type": "code",
   "execution_count": 376,
   "id": "f447b7fc",
   "metadata": {},
   "outputs": [
    {
     "data": {
      "text/plain": [
       "2 GHz        149\n",
       "2.3 GHz       65\n",
       "1.8 GHz       52\n",
       "2.2 GHz       52\n",
       "1.4 GHz       24\n",
       "2.1 GHz       22\n",
       "1.95 GHz      20\n",
       "2.8 GHz       20\n",
       "2.96 GHz      19\n",
       "2.84 GHz      11\n",
       "2.5 GHz        7\n",
       "2.05 GHz       3\n",
       "1.5 GHz        3\n",
       "1.6 GHz        3\n",
       "2.39 GHz       3\n",
       "2.6 GHz        3\n",
       "2.649 GHz      2\n",
       "1.3 GHz        1\n",
       "Name: mp_speed, dtype: int64"
      ]
     },
     "execution_count": 376,
     "metadata": {},
     "output_type": "execute_result"
    }
   ],
   "source": [
    "df.mp_speed.value_counts()"
   ]
  },
  {
   "cell_type": "code",
   "execution_count": null,
   "id": "32726111",
   "metadata": {},
   "outputs": [],
   "source": []
  },
  {
   "cell_type": "code",
   "execution_count": 377,
   "id": "fc37e1ef",
   "metadata": {},
   "outputs": [
    {
     "data": {
      "text/plain": [
       "Android Pie 9                126\n",
       "Android Oreo 8.1              96\n",
       "Android Pie 9.0               82\n",
       "Android 10                    68\n",
       "Android Pie 10                16\n",
       "Android Nougat 7.1.2          14\n",
       "Android Oreo 8.1.0            13\n",
       "Android Nougat 7.1            12\n",
       "Android Oreo 8                 7\n",
       "Android Nougat 7               7\n",
       "Android Oreo 8.0               6\n",
       "Android Lollipop 5.1           3\n",
       "Android Marshmallow 6          3\n",
       "Android Marshmallow 6.0.1      2\n",
       "Android Lollipop 5.4.1         1\n",
       "Android KitKat 4.4.2           1\n",
       "Android Nougat 7.1.1           1\n",
       "Android Lollipop 5.1.1         1\n",
       "Name: os, dtype: int64"
      ]
     },
     "execution_count": 377,
     "metadata": {},
     "output_type": "execute_result"
    }
   ],
   "source": [
    "df.os.value_counts()"
   ]
  },
  {
   "cell_type": "code",
   "execution_count": 378,
   "id": "2f894393",
   "metadata": {},
   "outputs": [
    {
     "data": {
      "text/plain": [
       "64 GB     185\n",
       "128 GB    126\n",
       "32 GB      91\n",
       "256 GB     30\n",
       "16 GB      24\n",
       "512 GB      2\n",
       "8 GB        1\n",
       "Name: int_memory, dtype: int64"
      ]
     },
     "execution_count": 378,
     "metadata": {},
     "output_type": "execute_result"
    }
   ],
   "source": [
    "df.int_memory.value_counts()"
   ]
  },
  {
   "cell_type": "code",
   "execution_count": 379,
   "id": "ce5b406f",
   "metadata": {},
   "outputs": [
    {
     "data": {
      "text/plain": [
       "4 GB     160\n",
       "6 GB     110\n",
       "3 GB      73\n",
       "8 GB      67\n",
       "2 GB      36\n",
       "12 GB      9\n",
       "1 GB       4\n",
       "Name: ram, dtype: int64"
      ]
     },
     "execution_count": 379,
     "metadata": {},
     "output_type": "execute_result"
    }
   ],
   "source": [
    "df.ram.value_counts()"
   ]
  },
  {
   "cell_type": "code",
   "execution_count": 380,
   "id": "21c56307",
   "metadata": {},
   "outputs": [
    {
     "data": {
      "text/plain": [
       "13MP + 2MP                                                                                      72\n",
       "13MP Rear Camera                                                                                45\n",
       "48MP + 8MP + 2MP + 2MP                                                                          39\n",
       "12MP + 5MP                                                                                      38\n",
       "64MP + 8MP + 2MP + 2MP                                                                          22\n",
       "48MP + 5MP                                                                                      21\n",
       "48MP + 13MP + 8MP                                                                               17\n",
       "48MP + 8MP + 5MP + 2MP                                                                          16\n",
       "64MP + 13MP + 8MP + 2MP                                                                         15\n",
       "12MP + 2MP                                                                                      12\n",
       "12MP Rear Camera                                                                                11\n",
       "16MP + 2MP                                                                                      10\n",
       "48MP + 8MP + 2MP                                                                                10\n",
       "16MP + 2MP + 8MP                                                                                 9\n",
       "20MP + 12MP                                                                                      9\n",
       "16MP Rear Camera                                                                                 9\n",
       "13MP + 8MP + 2MP                                                                                 9\n",
       "12MP + 2MP + 2MP                                                                                 8\n",
       "64MP + 12MP + 8MP + 2MP                                                                          8\n",
       "16MP + 8MP + 2MP                                                                                 6\n",
       "48MP + 8MP                                                                                       6\n",
       "8MP Rear Camera                                                                                  6\n",
       "48MP + 8MP + 2MP + 2MP Quad Camera                                                               6\n",
       "64MP + 8MP + 8MP + 2MP                                                                           4\n",
       "108MP Rear Camera                                                                                4\n",
       "13MP + 2MP Depth Sensor + 8MP Wide Angle sensor                                                  3\n",
       "12MP + 13MP                                                                                      3\n",
       "16MP + 2MP + Low Light Sensor                                                                    3\n",
       "13MP + 2MP + 8MP                                                                                 3\n",
       "12MP + 8MP + 2MP + 2MP                                                                           2\n",
       "16MP + 5MP + 2MP + Low Light Sensor                                                              2\n",
       "48MP + 12MP + 5MP                                                                                2\n",
       "48MP + 2MP + Low Light Sensor                                                                    2\n",
       "16MP + 20MP                                                                                      2\n",
       "13 MP + 2 MP + 2 MP + Low Light Sensor                                                           2\n",
       "48 MP + 2 MP + 2 MP + Low Light Sensor                                                           2\n",
       "16MP + 5MP                                                                                       2\n",
       "48MP + 8MP + 5MP                                                                                 2\n",
       "48MP + 13MP + 8MP + 2MP                                                                          2\n",
       "48 Million Quad Pixel Sensor (12 Million Effective Pixel) + 8MP + 5MP, AI Triple Rear Camera     2\n",
       "64MP + 8MP + 2MP + 2MP Quad Camera                                                               2\n",
       "13MP + 8MP + 2MP + 2MP                                                                           2\n",
       "64MP + 8MP + 5MP + 2MP                                                                           2\n",
       "12MP + 20MP                                                                                      2\n",
       "5MP Rear Camera                                                                                  1\n",
       "64MP + 8MP + 5MP + 5MP                                                                           1\n",
       "12MP + 5MP + 8MP                                                                                 1\n",
       "48MP + 5MP + 8MP                                                                                 1\n",
       "48MP + 8MP + 13MP + 2MP                                                                          1\n",
       "Name: p_cam, dtype: int64"
      ]
     },
     "execution_count": 380,
     "metadata": {},
     "output_type": "execute_result"
    }
   ],
   "source": [
    "df.p_cam.value_counts()"
   ]
  },
  {
   "cell_type": "code",
   "execution_count": 381,
   "id": "875e201f",
   "metadata": {},
   "outputs": [
    {
     "data": {
      "text/plain": [
       "16MP Front Camera               112\n",
       "8MP Front Camera                 65\n",
       "20MP Front Camera                61\n",
       "5MP Front Camera                 54\n",
       "32MP Front Camera                53\n",
       "13MP Front Camera                45\n",
       "20MP + 2MP Dual Front Camera     16\n",
       "32MP + 8MP Dual Front Camera     13\n",
       "25MP Front Camera                13\n",
       "24MP Front Camera                 7\n",
       "16MP + 8MP Dual Front Camera      6\n",
       "8MP Dual Front Camera             6\n",
       "13MP + 2MP Dual Front Camera      3\n",
       "44MP + 2MP Dual Front Camera      3\n",
       "2MP Front Camera                  2\n",
       "Name: f_cam, dtype: int64"
      ]
     },
     "execution_count": 381,
     "metadata": {},
     "output_type": "execute_result"
    }
   ],
   "source": [
    "df.f_cam.value_counts()"
   ]
  },
  {
   "cell_type": "code",
   "execution_count": 382,
   "id": "0e3c3b95",
   "metadata": {},
   "outputs": [
    {
     "data": {
      "text/plain": [
       "3G, 4G VOLTE, 4G, 2G        139\n",
       "3G, 4G VOLTE, 2G             85\n",
       "4G VOLTE, 4G, 3G, 2G         79\n",
       "3G, 4G, 2G                   39\n",
       "4G, 3G, 2G                   26\n",
       "4G VOLTE, 4G, 2G, 3G         20\n",
       "4G VOLTE, 3G, 2G             14\n",
       "3G, 4G VOLTE, 4G             13\n",
       "4G VOLTE, 3G                 10\n",
       "4G VOLTE                      8\n",
       "3G, 4G VOLTE                  8\n",
       "4G VOLTE, 5G                  4\n",
       "5G, 4G VOLTE, 4G, 3G, 2G      3\n",
       "4G, 2G, 3G                    3\n",
       "4G VOLTE, 4G                  3\n",
       "2G                            2\n",
       "3G, 4G                        2\n",
       "3G                            1\n",
       "Name: network, dtype: int64"
      ]
     },
     "execution_count": 382,
     "metadata": {},
     "output_type": "execute_result"
    }
   ],
   "source": [
    "df.network.value_counts()"
   ]
  },
  {
   "cell_type": "code",
   "execution_count": 383,
   "id": "533a9318",
   "metadata": {},
   "outputs": [
    {
     "data": {
      "text/plain": [
       "4000 mAh    135\n",
       "5000 mAh     87\n",
       "4230 mAh     38\n",
       "4500 mAh     36\n",
       "4030 mAh     22\n",
       "3260 mAh     14\n",
       "3000 mAh     11\n",
       "4200 mAh     10\n",
       "5020 mAh      9\n",
       "3010 mAh      9\n",
       "3080 mAh      7\n",
       "4020 mAh      6\n",
       "3180 mAh      6\n",
       "3360 mAh      6\n",
       "4035 mAh      6\n",
       "3700 mAh      5\n",
       "3500 mAh      5\n",
       "4300 mAh      5\n",
       "4100 mAh      4\n",
       "6000 mAh      4\n",
       "3075 mAh      4\n",
       "3600 mAh      4\n",
       "3400 mAh      4\n",
       "4780 mAh      4\n",
       "4350 mAh      3\n",
       "4025 mAh      3\n",
       "4065 mAh      3\n",
       "2730 mAh      2\n",
       "3730 mAh      2\n",
       "2600 mAh      1\n",
       "2000 mAh      1\n",
       "3050 mAh      1\n",
       "3225 mAh      1\n",
       "3200 mAh      1\n",
       "Name: battery_power, dtype: int64"
      ]
     },
     "execution_count": 383,
     "metadata": {},
     "output_type": "execute_result"
    }
   ],
   "source": [
    "df.battery_power.value_counts()"
   ]
  },
  {
   "cell_type": "code",
   "execution_count": 384,
   "id": "95fc648d",
   "metadata": {},
   "outputs": [
    {
     "data": {
      "text/plain": [
       "{'mobile_name': 363,\n",
       " 'mobile_price': 139,\n",
       " 'mobile_color': 165,\n",
       " 'dual_sim': 2,\n",
       " 'disp_size': 36,\n",
       " 'resolution': 48,\n",
       " 'os': 18,\n",
       " 'num_cores': 3,\n",
       " 'mp_speed': 18,\n",
       " 'int_memory': 7,\n",
       " 'ram': 7,\n",
       " 'p_cam': 49,\n",
       " 'f_cam': 15,\n",
       " 'network': 18,\n",
       " 'bluetooth': 1,\n",
       " 'battery_power': 34,\n",
       " 'mob_width': 70,\n",
       " 'mob_height': 81,\n",
       " 'mob_depth': 55,\n",
       " 'mob_weight': 62}"
      ]
     },
     "execution_count": 384,
     "metadata": {},
     "output_type": "execute_result"
    }
   ],
   "source": [
    "d"
   ]
  },
  {
   "cell_type": "code",
   "execution_count": 385,
   "id": "ccc46b52",
   "metadata": {},
   "outputs": [
    {
     "data": {
      "text/plain": [
       "75.6 mm     35\n",
       "75.4 mm     22\n",
       "75.3 mm     21\n",
       "76.68 mm    18\n",
       "75.5 mm     17\n",
       "75.09 mm    16\n",
       "75 mm       16\n",
       "74.3 mm     15\n",
       "76.77 mm    14\n",
       "75.21 mm    14\n",
       "75.35 mm    13\n",
       "75.7 mm     13\n",
       "76.6 mm     11\n",
       "76.1 mm     11\n",
       "74.8 mm     10\n",
       "75.8 mm     10\n",
       "76 mm       10\n",
       "75.23 mm     9\n",
       "77.33 mm     9\n",
       "75.2 mm      9\n",
       "75.41 mm     9\n",
       "75.03 mm     8\n",
       "74.2 mm      8\n",
       "73.7 mm      8\n",
       "72.85 mm     7\n",
       "9 mm         7\n",
       "75.74 mm     7\n",
       "77.26 mm     6\n",
       "73.1 mm      6\n",
       "71.85 mm     6\n",
       "75.25 mm     5\n",
       "74 mm        5\n",
       "76.4 mm      5\n",
       "8.35 mm      5\n",
       "72.8 mm      4\n",
       "76.8 mm      4\n",
       "75.04 mm     4\n",
       "70.4 mm      4\n",
       "73.4 mm      3\n",
       "74.24 mm     3\n",
       "73.3 mm      3\n",
       "75.19 mm     3\n",
       "74.7 mm      3\n",
       "74.71 mm     3\n",
       "82.38 mm     3\n",
       "77.2 mm      3\n",
       "70.1 mm      2\n",
       "76.46 mm     2\n",
       "75.24 mm     2\n",
       "74.6 mm      2\n",
       "72.9 mm      2\n",
       "75.16 mm     2\n",
       "152.4 mm     2\n",
       "75.58 mm     2\n",
       "76.88 mm     2\n",
       "74.17 mm     2\n",
       "77.35 mm     1\n",
       "154.5 mm     1\n",
       "75.93 mm     1\n",
       "69 mm        1\n",
       "72.1 mm      1\n",
       "159 mm       1\n",
       "77 mm        1\n",
       "75.08 mm     1\n",
       "76.47 mm     1\n",
       "76.2 mm      1\n",
       "71.5 mm      1\n",
       "75.49 mm     1\n",
       "73.6 mm      1\n",
       "73.8 mm      1\n",
       "Name: mob_width, dtype: int64"
      ]
     },
     "execution_count": 385,
     "metadata": {},
     "output_type": "execute_result"
    }
   ],
   "source": [
    "df.mob_width.value_counts()"
   ]
  },
  {
   "cell_type": "code",
   "execution_count": 386,
   "id": "28b9beea",
   "metadata": {},
   "outputs": [
    {
     "data": {
      "text/plain": [
       "156.7 mm     23\n",
       "164.4 mm     20\n",
       "158.7 mm     19\n",
       "155.9 mm     18\n",
       "165.75 mm    16\n",
       "155.11 mm    16\n",
       "159.43 mm    14\n",
       "159.21 mm    14\n",
       "158.58 mm    13\n",
       "162 mm       12\n",
       "161 mm       12\n",
       "165.3 mm     11\n",
       "155.5 mm     11\n",
       "163.6 mm     11\n",
       "156.48 mm     9\n",
       "159.53 mm     9\n",
       "162.39 mm     9\n",
       "156.2 mm      8\n",
       "154.3 mm      8\n",
       "158.3 mm      8\n",
       "156.1 mm      8\n",
       "153 mm        8\n",
       "154.81 mm     8\n",
       "155.87 mm     7\n",
       "163.8 mm      7\n",
       "150.5 mm      6\n",
       "163.9 mm      6\n",
       "157 mm        6\n",
       "175 mm        6\n",
       "160.73 mm     6\n",
       "153.48 mm     6\n",
       "158.25 mm     5\n",
       "164 mm        5\n",
       "161.3 mm      5\n",
       "156 mm        5\n",
       "159 mm        5\n",
       "157.9 mm      5\n",
       "165 mm        4\n",
       "162.58 mm     4\n",
       "155.06 mm     4\n",
       "159.64 mm     4\n",
       "149.3 mm      4\n",
       "162.5 mm      4\n",
       "146.3 mm      4\n",
       "158.96 mm     3\n",
       "160.2 mm      3\n",
       "166.38 mm     3\n",
       "153.9 mm      3\n",
       "162.1 mm      3\n",
       "158.8 mm      3\n",
       "154.5 mm      3\n",
       "157.25 mm     3\n",
       "159.25 mm     3\n",
       "157.6 mm      2\n",
       "149.9 mm      2\n",
       "159.01 mm     2\n",
       "162.04 mm     2\n",
       "151 mm        2\n",
       "165.5 mm      2\n",
       "140.4 mm      2\n",
       "158 mm        2\n",
       "158.73 mm     2\n",
       "78.6 mm       2\n",
       "155.21 mm     2\n",
       "148.1 mm      1\n",
       "161.8 mm      1\n",
       "160 mm        1\n",
       "7.38 mm       1\n",
       "151.86 mm     1\n",
       "154.4 mm      1\n",
       "162.15 mm     1\n",
       "144 mm        1\n",
       "152.4 mm      1\n",
       "136.5 mm      1\n",
       "143.4 mm      1\n",
       "9 mm          1\n",
       "154.6 mm      1\n",
       "147.5 mm      1\n",
       "161.97 mm     1\n",
       "157.91 mm     1\n",
       "153.3 mm      1\n",
       "Name: mob_height, dtype: int64"
      ]
     },
     "execution_count": 386,
     "metadata": {},
     "output_type": "execute_result"
    }
   ],
   "source": [
    "df.mob_height.value_counts()"
   ]
  },
  {
   "cell_type": "code",
   "execution_count": 387,
   "id": "9bff0066",
   "metadata": {},
   "outputs": [
    {
     "data": {
      "text/plain": [
       "8.8 mm      48\n",
       "8.1 mm      28\n",
       "8.3 mm      28\n",
       "9.3 mm      22\n",
       "7.9 mm      21\n",
       "8.2 mm      17\n",
       "8.28 mm     16\n",
       "8.7 mm      16\n",
       "8.92 mm     14\n",
       "8.9 mm      14\n",
       "8.05 mm     13\n",
       "8.5 mm      13\n",
       "8.4 mm      12\n",
       "7.7 mm      12\n",
       "8.79 mm     11\n",
       "9.4 mm      11\n",
       "7.3 mm      10\n",
       "8.13 mm      9\n",
       "8.85 mm      9\n",
       "7.8 mm       9\n",
       "7.89 mm      8\n",
       "8.95 mm      8\n",
       "8.6 mm       8\n",
       "8.475 mm     6\n",
       "92 mm        6\n",
       "75.3 mm      5\n",
       "9.1 mm       5\n",
       "9 mm         5\n",
       "8.65 mm      5\n",
       "9.6 mm       5\n",
       "8.26 mm      5\n",
       "7.99 mm      4\n",
       "7.77 mm      4\n",
       "9.55 mm      4\n",
       "8.96 mm      4\n",
       "8.54 mm      3\n",
       "7.6 mm       3\n",
       "7.38 mm      3\n",
       "7.4 mm       3\n",
       "9.65 mm      3\n",
       "7.95 mm      3\n",
       "8.21 mm      3\n",
       "8.68 mm      3\n",
       "8.35 mm      3\n",
       "75 mm        2\n",
       "7.5 mm       2\n",
       "9.11 mm      2\n",
       "8.47 mm      2\n",
       "8.55 mm      2\n",
       "9.8 mm       2\n",
       "9.5 mm       1\n",
       "8.67 mm      1\n",
       "7.98 mm      1\n",
       "8.89 mm      1\n",
       "76 mm        1\n",
       "Name: mob_depth, dtype: int64"
      ]
     },
     "execution_count": 387,
     "metadata": {},
     "output_type": "execute_result"
    }
   ],
   "source": [
    "df.mob_depth.value_counts()"
   ]
  },
  {
   "cell_type": "code",
   "execution_count": 388,
   "id": "fc30b1ab",
   "metadata": {},
   "outputs": [
    {
     "data": {
      "text/plain": [
       "191 g      27\n",
       "168 g      25\n",
       "186 g      23\n",
       "150 g      23\n",
       "209 g      22\n",
       "181 g      18\n",
       "180 g      17\n",
       "199 g      16\n",
       "163.5 g    16\n",
       "165 g      15\n",
       "175 g      15\n",
       "188 g      14\n",
       "190.5 g    14\n",
       "195 g      13\n",
       "198 g      12\n",
       "190 g      12\n",
       "170 g      11\n",
       "208 g      11\n",
       "201 g       9\n",
       "182 g       8\n",
       "185 g       8\n",
       "166 g       8\n",
       "143 g       7\n",
       "202 g       7\n",
       "184 g       6\n",
       "173.8 g     6\n",
       "178 g       6\n",
       "160 g       5\n",
       "197 g       5\n",
       "179 g       5\n",
       "186.5 g     4\n",
       "139 g       4\n",
       "183 g       4\n",
       "156 g       4\n",
       "189.6 g     4\n",
       "169 g       4\n",
       "215 g       3\n",
       "155 g       3\n",
       "172 g       3\n",
       "148 g       3\n",
       "207 g       3\n",
       "186.7 g     3\n",
       "159 g       3\n",
       "137 g       3\n",
       "176 g       2\n",
       "194 g       2\n",
       "192 g       2\n",
       "142 g       2\n",
       "187 g       2\n",
       "158 g       2\n",
       "154 g       2\n",
       "151 g       2\n",
       "201.8 g     2\n",
       "189 g       1\n",
       "145 g       1\n",
       "189.5 g     1\n",
       "174 g       1\n",
       "130 g       1\n",
       "162.8 g     1\n",
       "193 g       1\n",
       "146 g       1\n",
       "153 g       1\n",
       "Name: mob_weight, dtype: int64"
      ]
     },
     "execution_count": 388,
     "metadata": {},
     "output_type": "execute_result"
    }
   ],
   "source": [
    "df.mob_weight.value_counts()"
   ]
  },
  {
   "cell_type": "code",
   "execution_count": 389,
   "id": "16322ae9",
   "metadata": {},
   "outputs": [
    {
     "name": "stdout",
     "output_type": "stream",
     "text": [
      "{'mobile_name': 363, 'mobile_price': 139, 'mobile_color': 165, 'dual_sim': 2, 'disp_size': 36, 'resolution': 48, 'os': 18, 'num_cores': 3, 'mp_speed': 18, 'int_memory': 7, 'ram': 7, 'p_cam': 49, 'f_cam': 15, 'network': 18, 'bluetooth': 1, 'battery_power': 34, 'mob_width': 70, 'mob_height': 81, 'mob_depth': 55, 'mob_weight': 62}\n"
     ]
    }
   ],
   "source": [
    "print(d)"
   ]
  },
  {
   "cell_type": "code",
   "execution_count": null,
   "id": "a73c149b",
   "metadata": {},
   "outputs": [],
   "source": []
  },
  {
   "cell_type": "code",
   "execution_count": 390,
   "id": "a5d26fc8",
   "metadata": {},
   "outputs": [],
   "source": [
    "#drop = [\"mobile_name\",\"mobile_color\",\"dual_sim\",\"num_cores\",'mob_width', 'mob_height', 'mob_depth', 'mob_weight']"
   ]
  },
  {
   "cell_type": "code",
   "execution_count": 391,
   "id": "3f48b258",
   "metadata": {},
   "outputs": [],
   "source": [
    "# top 6  [\"disp_size\",\"resolution\",\"mp_speed\",\"p_cam\",\"f_cam\",]"
   ]
  },
  {
   "cell_type": "code",
   "execution_count": 392,
   "id": "2d6c69ca",
   "metadata": {},
   "outputs": [],
   "source": [
    "# ordinal encoding \n",
    "\n",
    "# top 3  [\"int_memory\" , \"ram\", \"network\",\"network\",\"battery_power\"]  "
   ]
  },
  {
   "cell_type": "code",
   "execution_count": null,
   "id": "6fc4a05b",
   "metadata": {},
   "outputs": [],
   "source": []
  },
  {
   "cell_type": "code",
   "execution_count": 393,
   "id": "96871638",
   "metadata": {},
   "outputs": [],
   "source": [
    "data = df.drop([\"mobile_name\",\"mobile_color\",\"dual_sim\"],axis = 1)"
   ]
  },
  {
   "cell_type": "code",
   "execution_count": 394,
   "id": "f9a1a4ab",
   "metadata": {},
   "outputs": [
    {
     "data": {
      "text/html": [
       "<div>\n",
       "<style scoped>\n",
       "    .dataframe tbody tr th:only-of-type {\n",
       "        vertical-align: middle;\n",
       "    }\n",
       "\n",
       "    .dataframe tbody tr th {\n",
       "        vertical-align: top;\n",
       "    }\n",
       "\n",
       "    .dataframe thead th {\n",
       "        text-align: right;\n",
       "    }\n",
       "</style>\n",
       "<table border=\"1\" class=\"dataframe\">\n",
       "  <thead>\n",
       "    <tr style=\"text-align: right;\">\n",
       "      <th></th>\n",
       "      <th>mobile_price</th>\n",
       "      <th>disp_size</th>\n",
       "      <th>resolution</th>\n",
       "      <th>os</th>\n",
       "      <th>num_cores</th>\n",
       "      <th>mp_speed</th>\n",
       "      <th>int_memory</th>\n",
       "      <th>ram</th>\n",
       "      <th>p_cam</th>\n",
       "      <th>f_cam</th>\n",
       "      <th>network</th>\n",
       "      <th>bluetooth</th>\n",
       "      <th>battery_power</th>\n",
       "      <th>mob_width</th>\n",
       "      <th>mob_height</th>\n",
       "      <th>mob_depth</th>\n",
       "      <th>mob_weight</th>\n",
       "    </tr>\n",
       "  </thead>\n",
       "  <tbody>\n",
       "    <tr>\n",
       "      <th>0</th>\n",
       "      <td>8999</td>\n",
       "      <td>16.56 cm (6.52 inch)</td>\n",
       "      <td>1600 x 720 Pixels</td>\n",
       "      <td>Android 10</td>\n",
       "      <td>Octa Core</td>\n",
       "      <td>2 GHz</td>\n",
       "      <td>32 GB</td>\n",
       "      <td>3 GB</td>\n",
       "      <td>12MP + 2MP + 2MP</td>\n",
       "      <td>5MP Front Camera</td>\n",
       "      <td>4G VOLTE, 4G, 3G, 2G</td>\n",
       "      <td>Yes</td>\n",
       "      <td>5000 mAh</td>\n",
       "      <td>75 mm</td>\n",
       "      <td>164.4 mm</td>\n",
       "      <td>8.95 mm</td>\n",
       "      <td>195 g</td>\n",
       "    </tr>\n",
       "    <tr>\n",
       "      <th>1</th>\n",
       "      <td>8999</td>\n",
       "      <td>16.56 cm (6.52 inch)</td>\n",
       "      <td>1600 x 720 Pixels</td>\n",
       "      <td>Android 10</td>\n",
       "      <td>Octa Core</td>\n",
       "      <td>2 GHz</td>\n",
       "      <td>32 GB</td>\n",
       "      <td>3 GB</td>\n",
       "      <td>12MP + 2MP + 2MP</td>\n",
       "      <td>5MP Front Camera</td>\n",
       "      <td>4G VOLTE, 4G, 3G, 2G</td>\n",
       "      <td>Yes</td>\n",
       "      <td>5000 mAh</td>\n",
       "      <td>75 mm</td>\n",
       "      <td>164.4 mm</td>\n",
       "      <td>8.95 mm</td>\n",
       "      <td>195 g</td>\n",
       "    </tr>\n",
       "    <tr>\n",
       "      <th>2</th>\n",
       "      <td>9999</td>\n",
       "      <td>16.56 cm (6.52 inch)</td>\n",
       "      <td>1600 x 720 Pixels</td>\n",
       "      <td>Android 10</td>\n",
       "      <td>Octa Core</td>\n",
       "      <td>2 GHz</td>\n",
       "      <td>64 GB</td>\n",
       "      <td>4 GB</td>\n",
       "      <td>12MP + 2MP + 2MP</td>\n",
       "      <td>5MP Front Camera</td>\n",
       "      <td>4G VOLTE, 4G, 3G, 2G</td>\n",
       "      <td>Yes</td>\n",
       "      <td>5000 mAh</td>\n",
       "      <td>75 mm</td>\n",
       "      <td>164.4 mm</td>\n",
       "      <td>8.95 mm</td>\n",
       "      <td>195 g</td>\n",
       "    </tr>\n",
       "    <tr>\n",
       "      <th>3</th>\n",
       "      <td>9999</td>\n",
       "      <td>16.56 cm (6.52 inch)</td>\n",
       "      <td>1600 x 720 Pixels</td>\n",
       "      <td>Android 10</td>\n",
       "      <td>Octa Core</td>\n",
       "      <td>2 GHz</td>\n",
       "      <td>64 GB</td>\n",
       "      <td>4 GB</td>\n",
       "      <td>12MP + 2MP + 2MP</td>\n",
       "      <td>5MP Front Camera</td>\n",
       "      <td>4G VOLTE, 4G, 3G, 2G</td>\n",
       "      <td>Yes</td>\n",
       "      <td>5000 mAh</td>\n",
       "      <td>75 mm</td>\n",
       "      <td>164.4 mm</td>\n",
       "      <td>8.95 mm</td>\n",
       "      <td>195 g</td>\n",
       "    </tr>\n",
       "    <tr>\n",
       "      <th>4</th>\n",
       "      <td>11999</td>\n",
       "      <td>16.51 cm (6.5 inch)</td>\n",
       "      <td>1600 x 720 Pixels</td>\n",
       "      <td>Android 10</td>\n",
       "      <td>Octa Core</td>\n",
       "      <td>2 GHz</td>\n",
       "      <td>128 GB</td>\n",
       "      <td>4 GB</td>\n",
       "      <td>48MP + 8MP + 2MP + 2MP</td>\n",
       "      <td>16MP Front Camera</td>\n",
       "      <td>4G VOLTE, 4G, 3G, 2G</td>\n",
       "      <td>Yes</td>\n",
       "      <td>5000 mAh</td>\n",
       "      <td>75.4 mm</td>\n",
       "      <td>164.4 mm</td>\n",
       "      <td>9 mm</td>\n",
       "      <td>199 g</td>\n",
       "    </tr>\n",
       "  </tbody>\n",
       "</table>\n",
       "</div>"
      ],
      "text/plain": [
       "   mobile_price             disp_size         resolution          os  \\\n",
       "0          8999  16.56 cm (6.52 inch)  1600 x 720 Pixels  Android 10   \n",
       "1          8999  16.56 cm (6.52 inch)  1600 x 720 Pixels  Android 10   \n",
       "2          9999  16.56 cm (6.52 inch)  1600 x 720 Pixels  Android 10   \n",
       "3          9999  16.56 cm (6.52 inch)  1600 x 720 Pixels  Android 10   \n",
       "4         11999   16.51 cm (6.5 inch)  1600 x 720 Pixels  Android 10   \n",
       "\n",
       "   num_cores mp_speed int_memory   ram                   p_cam  \\\n",
       "0  Octa Core    2 GHz      32 GB  3 GB        12MP + 2MP + 2MP   \n",
       "1  Octa Core    2 GHz      32 GB  3 GB        12MP + 2MP + 2MP   \n",
       "2  Octa Core    2 GHz      64 GB  4 GB        12MP + 2MP + 2MP   \n",
       "3  Octa Core    2 GHz      64 GB  4 GB        12MP + 2MP + 2MP   \n",
       "4  Octa Core    2 GHz     128 GB  4 GB  48MP + 8MP + 2MP + 2MP   \n",
       "\n",
       "               f_cam               network bluetooth battery_power mob_width  \\\n",
       "0   5MP Front Camera  4G VOLTE, 4G, 3G, 2G       Yes      5000 mAh     75 mm   \n",
       "1   5MP Front Camera  4G VOLTE, 4G, 3G, 2G       Yes      5000 mAh     75 mm   \n",
       "2   5MP Front Camera  4G VOLTE, 4G, 3G, 2G       Yes      5000 mAh     75 mm   \n",
       "3   5MP Front Camera  4G VOLTE, 4G, 3G, 2G       Yes      5000 mAh     75 mm   \n",
       "4  16MP Front Camera  4G VOLTE, 4G, 3G, 2G       Yes      5000 mAh   75.4 mm   \n",
       "\n",
       "  mob_height mob_depth mob_weight  \n",
       "0   164.4 mm   8.95 mm      195 g  \n",
       "1   164.4 mm   8.95 mm      195 g  \n",
       "2   164.4 mm   8.95 mm      195 g  \n",
       "3   164.4 mm   8.95 mm      195 g  \n",
       "4   164.4 mm      9 mm      199 g  "
      ]
     },
     "execution_count": 394,
     "metadata": {},
     "output_type": "execute_result"
    }
   ],
   "source": [
    "data.head()"
   ]
  },
  {
   "cell_type": "code",
   "execution_count": 457,
   "id": "db2fd1f6",
   "metadata": {},
   "outputs": [
    {
     "data": {
      "image/png": "[encoded data removed]",
      "text/plain": [
       "<Figure size 640x480 with 1 Axes>"
      ]
     },
     "metadata": {},
     "output_type": "display_data"
    },
    {
     "data": {
      "image/png": "[encoded data removed]",
      "text/plain": [
       "<Figure size 640x480 with 1 Axes>"
      ]
     },
     "metadata": {},
     "output_type": "display_data"
    },
    {
     "data": {
      "image/png": "[encoded data removed]",
      "text/plain": [
       "<Figure size 640x480 with 1 Axes>"
      ]
     },
     "metadata": {},
     "output_type": "display_data"
    },
    {
     "data": {
      "image/png": "[encoded data removed]",
      "text/plain": [
       "<Figure size 640x480 with 1 Axes>"
      ]
     },
     "metadata": {},
     "output_type": "display_data"
    },
    {
     "data": {
      "image/png": "[encoded data removed]",
      "text/plain": [
       "<Figure size 640x480 with 1 Axes>"
      ]
     },
     "metadata": {},
     "output_type": "display_data"
    },
    {
     "data": {
      "image/png": "[encoded data removed]",
      "text/plain": [
       "<Figure size 640x480 with 1 Axes>"
      ]
     },
     "metadata": {},
     "output_type": "display_data"
    },
    {
     "data": {
      "image/png": "[encoded data removed]",
      "text/plain": [
       "<Figure size 640x480 with 1 Axes>"
      ]
     },
     "metadata": {},
     "output_type": "display_data"
    },
    {
     "data": {
      "image/png": "[encoded data removed]",
      "text/plain": [
       "<Figure size 640x480 with 1 Axes>"
      ]
     },
     "metadata": {},
     "output_type": "display_data"
    },
    {
     "data": {
      "image/png": "[encoded data removed]",
      "text/plain": [
       "<Figure size 640x480 with 1 Axes>"
      ]
     },
     "metadata": {},
     "output_type": "display_data"
    },
    {
     "data": {
      "image/png": "[encoded data removed]",
      "text/plain": [
       "<Figure size 640x480 with 1 Axes>"
      ]
     },
     "metadata": {},
     "output_type": "display_data"
    },
    {
     "data": {
      "image/png": "[encoded data removed]",
      "text/plain": [
       "<Figure size 640x480 with 1 Axes>"
      ]
     },
     "metadata": {},
     "output_type": "display_data"
    },
    {
     "data": {
      "image/png": "[encoded data removed]",
      "text/plain": [
       "<Figure size 640x480 with 1 Axes>"
      ]
     },
     "metadata": {},
     "output_type": "display_data"
    },
    {
     "data": {
      "image/png": "[encoded data removed]",
      "text/plain": [
       "<Figure size 640x480 with 1 Axes>"
      ]
     },
     "metadata": {},
     "output_type": "display_data"
    },
    {
     "data": {
      "image/png": "[encoded data removed]",
      "text/plain": [
       "<Figure size 640x480 with 1 Axes>"
      ]
     },
     "metadata": {},
     "output_type": "display_data"
    },
    {
     "data": {
      "image/png": "[encoded data removed]",
      "text/plain": [
       "<Figure size 640x480 with 1 Axes>"
      ]
     },
     "metadata": {},
     "output_type": "display_data"
    }
   ],
   "source": [
    "for feature in data : \n",
    "    if feature != 'mobile_price' :\n",
    "        data.groupby(feature)['mobile_price'].median().plot.bar()\n",
    "        plt.xlabel(feature)\n",
    "        plt.ylabel('mobile_price')\n",
    "        plt.title(feature)\n",
    "        plt.show()"
   ]
  },
  {
   "cell_type": "code",
   "execution_count": 395,
   "id": "ec14d6c8",
   "metadata": {},
   "outputs": [
    {
     "data": {
      "text/plain": [
       "<AxesSubplot: ylabel='Frequency'>"
      ]
     },
     "execution_count": 395,
     "metadata": {},
     "output_type": "execute_result"
    },
    {
     "data": {
      "image/png": "[encoded data removed]",
      "text/plain": [
       "<Figure size 640x480 with 1 Axes>"
      ]
     },
     "metadata": {},
     "output_type": "display_data"
    }
   ],
   "source": [
    "df['mobile_price'].plot.hist()"
   ]
  },
  {
   "cell_type": "code",
   "execution_count": 397,
   "id": "27e4d0f4",
   "metadata": {},
   "outputs": [],
   "source": [
    "#drop = [\"mobile_name\",\"mobile_color\",\"dual_sim\",\"num_cores\",'mob_width', 'mob_height', 'mob_depth', 'mob_weight']"
   ]
  },
  {
   "cell_type": "code",
   "execution_count": 398,
   "id": "9aa1f071",
   "metadata": {},
   "outputs": [],
   "source": [
    "# top 6  [\"disp_size\",\"resolution\",\"mp_speed\",\"p_cam\",\"f_cam\",]"
   ]
  },
  {
   "cell_type": "code",
   "execution_count": 399,
   "id": "4d264b46",
   "metadata": {},
   "outputs": [],
   "source": [
    "# ordinal encoding \n",
    "\n",
    "# top 3  [\"int_memory\" , \"ram\", \"network\",\"network\",\"battery_power\"]  "
   ]
  },
  {
   "cell_type": "code",
   "execution_count": null,
   "id": "55779fe3",
   "metadata": {},
   "outputs": [],
   "source": []
  },
  {
   "cell_type": "code",
   "execution_count": 400,
   "id": "73519c29",
   "metadata": {},
   "outputs": [
    {
     "data": {
      "text/plain": [
       "['disp_size',\n",
       " 'resolution',\n",
       " 'os',\n",
       " 'num_cores',\n",
       " 'mp_speed',\n",
       " 'int_memory',\n",
       " 'ram',\n",
       " 'p_cam',\n",
       " 'f_cam',\n",
       " 'network',\n",
       " 'bluetooth',\n",
       " 'battery_power',\n",
       " 'mob_width',\n",
       " 'mob_height',\n",
       " 'mob_depth',\n",
       " 'mob_weight']"
      ]
     },
     "execution_count": 400,
     "metadata": {},
     "output_type": "execute_result"
    }
   ],
   "source": [
    "categorical_features=[feature for feature in data.columns if data[feature].dtypes=='O']\n",
    "categorical_features"
   ]
  },
  {
   "cell_type": "code",
   "execution_count": 401,
   "id": "9143c800",
   "metadata": {},
   "outputs": [],
   "source": [
    "for feature in categorical_features:\n",
    "    temp= data.groupby(feature)['mobile_price'].count()/len(data)\n",
    "    temp_df=temp[temp>0.01].index\n",
    "    data[feature]=np.where(data[feature].isin(temp_df),data[feature],'Rare_var')\n",
    "    \n",
    "    "
   ]
  },
  {
   "cell_type": "markdown",
   "id": "404132ed",
   "metadata": {},
   "source": [
    "This code is performing a process called \"data cleaning\" on a dataset. It is specifically handling categorical features and handling rare categories within those features. The goal is to group together categories that occur infrequently in the dataset, and to label them as \"Rare_var.\"\n",
    "\n",
    "The code is doing this by iterating through each feature in the list \"categorical_features\". For each feature, it calculates the proportion of rows in the dataset that contain each category of that feature. If the proportion is less than 0.01 (1%), the category is considered \"rare.\" The feature's categories that are considered rare are then replaced with the label \"Rare_var.\"\n",
    "\n",
    "The reasoning behind this is that categories that occur infrequently in the dataset may not be very meaningful and could cause overfitting in a machine learning model. By replacing these rare categories with a single label, the model can more accurately predict the outcome variable."
   ]
  },
  {
   "cell_type": "code",
   "execution_count": 402,
   "id": "49909a86",
   "metadata": {},
   "outputs": [],
   "source": [
    "for feature in categorical_features:\n",
    "    labels_ordered=data.groupby([feature])['mobile_price'].mean().sort_values().index\n",
    "    labels_ordered={k:i for i,k in enumerate(labels_ordered,0)}\n",
    "    data[feature]=data[feature].map(labels_ordered)"
   ]
  },
  {
   "cell_type": "markdown",
   "id": "c0b84596",
   "metadata": {},
   "source": [
    "This code is also handling categorical features, but instead of grouping rare categories together, it is ordering them by the mean mobile_price.\n",
    "It first group the dataset by feature then calculate the mean mobile_price and reorder them by this mean. Then it is creating a dictionary that maps the reordered categories to integer values, with the smallest mean value getting the smallest integer value.\n",
    "Finally the code is replacing the old categorical feature with the integer values (by using map method) for this feature.\n",
    "\n",
    "This is a technique called encoding, this way this categorical feature will be transformed into ordinal feature, this allows the model to understand the relative ordering of the categories based on their average mobile_price and that would improve the model performance.\n",
    "It's also help to avoid the problem of having many categorical features and resulting in many features after one-hot-encoding."
   ]
  },
  {
   "cell_type": "code",
   "execution_count": 403,
   "id": "0a9bd78e",
   "metadata": {},
   "outputs": [],
   "source": [
    "data =data.drop(\"bluetooth\",axis =1 )"
   ]
  },
  {
   "cell_type": "code",
   "execution_count": 404,
   "id": "e3c75db6",
   "metadata": {},
   "outputs": [
    {
     "data": {
      "text/html": [
       "<div>\n",
       "<style scoped>\n",
       "    .dataframe tbody tr th:only-of-type {\n",
       "        vertical-align: middle;\n",
       "    }\n",
       "\n",
       "    .dataframe tbody tr th {\n",
       "        vertical-align: top;\n",
       "    }\n",
       "\n",
       "    .dataframe thead th {\n",
       "        text-align: right;\n",
       "    }\n",
       "</style>\n",
       "<table border=\"1\" class=\"dataframe\">\n",
       "  <thead>\n",
       "    <tr style=\"text-align: right;\">\n",
       "      <th></th>\n",
       "      <th>mobile_price</th>\n",
       "      <th>disp_size</th>\n",
       "      <th>resolution</th>\n",
       "      <th>os</th>\n",
       "      <th>num_cores</th>\n",
       "      <th>mp_speed</th>\n",
       "      <th>int_memory</th>\n",
       "      <th>ram</th>\n",
       "      <th>p_cam</th>\n",
       "      <th>f_cam</th>\n",
       "      <th>network</th>\n",
       "      <th>battery_power</th>\n",
       "      <th>mob_width</th>\n",
       "      <th>mob_height</th>\n",
       "      <th>mob_depth</th>\n",
       "      <th>mob_weight</th>\n",
       "    </tr>\n",
       "  </thead>\n",
       "  <tbody>\n",
       "    <tr>\n",
       "      <th>0</th>\n",
       "      <td>8999</td>\n",
       "      <td>5</td>\n",
       "      <td>10</td>\n",
       "      <td>9</td>\n",
       "      <td>2</td>\n",
       "      <td>1</td>\n",
       "      <td>1</td>\n",
       "      <td>2</td>\n",
       "      <td>4</td>\n",
       "      <td>1</td>\n",
       "      <td>10</td>\n",
       "      <td>5</td>\n",
       "      <td>6</td>\n",
       "      <td>8</td>\n",
       "      <td>2</td>\n",
       "      <td>15</td>\n",
       "    </tr>\n",
       "    <tr>\n",
       "      <th>1</th>\n",
       "      <td>8999</td>\n",
       "      <td>5</td>\n",
       "      <td>10</td>\n",
       "      <td>9</td>\n",
       "      <td>2</td>\n",
       "      <td>1</td>\n",
       "      <td>1</td>\n",
       "      <td>2</td>\n",
       "      <td>4</td>\n",
       "      <td>1</td>\n",
       "      <td>10</td>\n",
       "      <td>5</td>\n",
       "      <td>6</td>\n",
       "      <td>8</td>\n",
       "      <td>2</td>\n",
       "      <td>15</td>\n",
       "    </tr>\n",
       "    <tr>\n",
       "      <th>2</th>\n",
       "      <td>9999</td>\n",
       "      <td>5</td>\n",
       "      <td>10</td>\n",
       "      <td>9</td>\n",
       "      <td>2</td>\n",
       "      <td>1</td>\n",
       "      <td>2</td>\n",
       "      <td>3</td>\n",
       "      <td>4</td>\n",
       "      <td>1</td>\n",
       "      <td>10</td>\n",
       "      <td>5</td>\n",
       "      <td>6</td>\n",
       "      <td>8</td>\n",
       "      <td>2</td>\n",
       "      <td>15</td>\n",
       "    </tr>\n",
       "    <tr>\n",
       "      <th>3</th>\n",
       "      <td>9999</td>\n",
       "      <td>5</td>\n",
       "      <td>10</td>\n",
       "      <td>9</td>\n",
       "      <td>2</td>\n",
       "      <td>1</td>\n",
       "      <td>2</td>\n",
       "      <td>3</td>\n",
       "      <td>4</td>\n",
       "      <td>1</td>\n",
       "      <td>10</td>\n",
       "      <td>5</td>\n",
       "      <td>6</td>\n",
       "      <td>8</td>\n",
       "      <td>2</td>\n",
       "      <td>15</td>\n",
       "    </tr>\n",
       "    <tr>\n",
       "      <th>4</th>\n",
       "      <td>11999</td>\n",
       "      <td>17</td>\n",
       "      <td>10</td>\n",
       "      <td>9</td>\n",
       "      <td>2</td>\n",
       "      <td>1</td>\n",
       "      <td>3</td>\n",
       "      <td>3</td>\n",
       "      <td>15</td>\n",
       "      <td>6</td>\n",
       "      <td>10</td>\n",
       "      <td>5</td>\n",
       "      <td>16</td>\n",
       "      <td>8</td>\n",
       "      <td>11</td>\n",
       "      <td>30</td>\n",
       "    </tr>\n",
       "  </tbody>\n",
       "</table>\n",
       "</div>"
      ],
      "text/plain": [
       "   mobile_price  disp_size  resolution  os  num_cores  mp_speed  int_memory  \\\n",
       "0          8999          5          10   9          2         1           1   \n",
       "1          8999          5          10   9          2         1           1   \n",
       "2          9999          5          10   9          2         1           2   \n",
       "3          9999          5          10   9          2         1           2   \n",
       "4         11999         17          10   9          2         1           3   \n",
       "\n",
       "   ram  p_cam  f_cam  network  battery_power  mob_width  mob_height  \\\n",
       "0    2      4      1       10              5          6           8   \n",
       "1    2      4      1       10              5          6           8   \n",
       "2    3      4      1       10              5          6           8   \n",
       "3    3      4      1       10              5          6           8   \n",
       "4    3     15      6       10              5         16           8   \n",
       "\n",
       "   mob_depth  mob_weight  \n",
       "0          2          15  \n",
       "1          2          15  \n",
       "2          2          15  \n",
       "3          2          15  \n",
       "4         11          30  "
      ]
     },
     "execution_count": 404,
     "metadata": {},
     "output_type": "execute_result"
    }
   ],
   "source": [
    "data.head()"
   ]
  },
  {
   "cell_type": "code",
   "execution_count": 405,
   "id": "96507170",
   "metadata": {},
   "outputs": [
    {
     "data": {
      "text/plain": [
       "(459, 16)"
      ]
     },
     "execution_count": 405,
     "metadata": {},
     "output_type": "execute_result"
    }
   ],
   "source": [
    "data.shape"
   ]
  },
  {
   "cell_type": "code",
   "execution_count": 406,
   "id": "2a638fd8",
   "metadata": {},
   "outputs": [
    {
     "data": {
      "text/html": [
       "<div>\n",
       "<style scoped>\n",
       "    .dataframe tbody tr th:only-of-type {\n",
       "        vertical-align: middle;\n",
       "    }\n",
       "\n",
       "    .dataframe tbody tr th {\n",
       "        vertical-align: top;\n",
       "    }\n",
       "\n",
       "    .dataframe thead th {\n",
       "        text-align: right;\n",
       "    }\n",
       "</style>\n",
       "<table border=\"1\" class=\"dataframe\">\n",
       "  <thead>\n",
       "    <tr style=\"text-align: right;\">\n",
       "      <th></th>\n",
       "      <th>mobile_price</th>\n",
       "      <th>disp_size</th>\n",
       "      <th>resolution</th>\n",
       "      <th>os</th>\n",
       "      <th>num_cores</th>\n",
       "      <th>mp_speed</th>\n",
       "      <th>int_memory</th>\n",
       "      <th>ram</th>\n",
       "      <th>p_cam</th>\n",
       "      <th>f_cam</th>\n",
       "      <th>network</th>\n",
       "      <th>battery_power</th>\n",
       "      <th>mob_width</th>\n",
       "      <th>mob_height</th>\n",
       "      <th>mob_depth</th>\n",
       "      <th>mob_weight</th>\n",
       "    </tr>\n",
       "  </thead>\n",
       "  <tbody>\n",
       "    <tr>\n",
       "      <th>0</th>\n",
       "      <td>8999</td>\n",
       "      <td>5</td>\n",
       "      <td>10</td>\n",
       "      <td>9</td>\n",
       "      <td>2</td>\n",
       "      <td>1</td>\n",
       "      <td>1</td>\n",
       "      <td>2</td>\n",
       "      <td>4</td>\n",
       "      <td>1</td>\n",
       "      <td>10</td>\n",
       "      <td>5</td>\n",
       "      <td>6</td>\n",
       "      <td>8</td>\n",
       "      <td>2</td>\n",
       "      <td>15</td>\n",
       "    </tr>\n",
       "    <tr>\n",
       "      <th>1</th>\n",
       "      <td>8999</td>\n",
       "      <td>5</td>\n",
       "      <td>10</td>\n",
       "      <td>9</td>\n",
       "      <td>2</td>\n",
       "      <td>1</td>\n",
       "      <td>1</td>\n",
       "      <td>2</td>\n",
       "      <td>4</td>\n",
       "      <td>1</td>\n",
       "      <td>10</td>\n",
       "      <td>5</td>\n",
       "      <td>6</td>\n",
       "      <td>8</td>\n",
       "      <td>2</td>\n",
       "      <td>15</td>\n",
       "    </tr>\n",
       "    <tr>\n",
       "      <th>2</th>\n",
       "      <td>9999</td>\n",
       "      <td>5</td>\n",
       "      <td>10</td>\n",
       "      <td>9</td>\n",
       "      <td>2</td>\n",
       "      <td>1</td>\n",
       "      <td>2</td>\n",
       "      <td>3</td>\n",
       "      <td>4</td>\n",
       "      <td>1</td>\n",
       "      <td>10</td>\n",
       "      <td>5</td>\n",
       "      <td>6</td>\n",
       "      <td>8</td>\n",
       "      <td>2</td>\n",
       "      <td>15</td>\n",
       "    </tr>\n",
       "    <tr>\n",
       "      <th>3</th>\n",
       "      <td>9999</td>\n",
       "      <td>5</td>\n",
       "      <td>10</td>\n",
       "      <td>9</td>\n",
       "      <td>2</td>\n",
       "      <td>1</td>\n",
       "      <td>2</td>\n",
       "      <td>3</td>\n",
       "      <td>4</td>\n",
       "      <td>1</td>\n",
       "      <td>10</td>\n",
       "      <td>5</td>\n",
       "      <td>6</td>\n",
       "      <td>8</td>\n",
       "      <td>2</td>\n",
       "      <td>15</td>\n",
       "    </tr>\n",
       "    <tr>\n",
       "      <th>4</th>\n",
       "      <td>11999</td>\n",
       "      <td>17</td>\n",
       "      <td>10</td>\n",
       "      <td>9</td>\n",
       "      <td>2</td>\n",
       "      <td>1</td>\n",
       "      <td>3</td>\n",
       "      <td>3</td>\n",
       "      <td>15</td>\n",
       "      <td>6</td>\n",
       "      <td>10</td>\n",
       "      <td>5</td>\n",
       "      <td>16</td>\n",
       "      <td>8</td>\n",
       "      <td>11</td>\n",
       "      <td>30</td>\n",
       "    </tr>\n",
       "  </tbody>\n",
       "</table>\n",
       "</div>"
      ],
      "text/plain": [
       "   mobile_price  disp_size  resolution  os  num_cores  mp_speed  int_memory  \\\n",
       "0          8999          5          10   9          2         1           1   \n",
       "1          8999          5          10   9          2         1           1   \n",
       "2          9999          5          10   9          2         1           2   \n",
       "3          9999          5          10   9          2         1           2   \n",
       "4         11999         17          10   9          2         1           3   \n",
       "\n",
       "   ram  p_cam  f_cam  network  battery_power  mob_width  mob_height  \\\n",
       "0    2      4      1       10              5          6           8   \n",
       "1    2      4      1       10              5          6           8   \n",
       "2    3      4      1       10              5          6           8   \n",
       "3    3      4      1       10              5          6           8   \n",
       "4    3     15      6       10              5         16           8   \n",
       "\n",
       "   mob_depth  mob_weight  \n",
       "0          2          15  \n",
       "1          2          15  \n",
       "2          2          15  \n",
       "3          2          15  \n",
       "4         11          30  "
      ]
     },
     "execution_count": 406,
     "metadata": {},
     "output_type": "execute_result"
    }
   ],
   "source": [
    "data.head()"
   ]
  },
  {
   "cell_type": "code",
   "execution_count": 407,
   "id": "3d5ee8ce",
   "metadata": {},
   "outputs": [
    {
     "data": {
      "text/plain": [
       "(459, 16)"
      ]
     },
     "execution_count": 407,
     "metadata": {},
     "output_type": "execute_result"
    }
   ],
   "source": [
    "data.shape"
   ]
  },
  {
   "cell_type": "code",
   "execution_count": 408,
   "id": "a3de6520",
   "metadata": {},
   "outputs": [],
   "source": [
    "y = data[\"mobile_price\"]"
   ]
  },
  {
   "cell_type": "code",
   "execution_count": 409,
   "id": "51d84255",
   "metadata": {},
   "outputs": [],
   "source": [
    "X = data.drop(\"mobile_price\",axis = 1)"
   ]
  },
  {
   "cell_type": "code",
   "execution_count": null,
   "id": "194f314e",
   "metadata": {},
   "outputs": [],
   "source": []
  },
  {
   "cell_type": "code",
   "execution_count": 410,
   "id": "2bceafe5",
   "metadata": {},
   "outputs": [],
   "source": [
    "from sklearn.preprocessing import MinMaxScaler\n",
    "scaler = MinMaxScaler()"
   ]
  },
  {
   "cell_type": "code",
   "execution_count": 411,
   "id": "a8aa1b7e",
   "metadata": {},
   "outputs": [],
   "source": [
    "X = scaler.fit_transform(X)"
   ]
  },
  {
   "cell_type": "code",
   "execution_count": 412,
   "id": "944d796d",
   "metadata": {},
   "outputs": [],
   "source": [
    "from sklearn.model_selection import train_test_split"
   ]
  },
  {
   "cell_type": "code",
   "execution_count": 413,
   "id": "538852ee",
   "metadata": {},
   "outputs": [],
   "source": [
    "X_train, X_test , y_train, y_test = train_test_split(X,y,test_size = 0.15,random_state = 45)"
   ]
  },
  {
   "cell_type": "code",
   "execution_count": null,
   "id": "00e6a33a",
   "metadata": {},
   "outputs": [],
   "source": []
  },
  {
   "cell_type": "code",
   "execution_count": null,
   "id": "63291bd0",
   "metadata": {},
   "outputs": [],
   "source": []
  },
  {
   "cell_type": "code",
   "execution_count": 440,
   "id": "b248ee55",
   "metadata": {},
   "outputs": [],
   "source": [
    "from sklearn.tree import DecisionTreeRegressor\n",
    "\n",
    "# Create a decision tree regression object\n",
    "regressor = DecisionTreeRegressor(random_state=0)\n",
    "\n",
    "# Fit the regressor to the data\n",
    "regressor.fit(X_train, y_train)\n",
    "\n",
    "# Make predictions on the test set\n",
    "y_pred = regressor.predict(X_test)"
   ]
  },
  {
   "cell_type": "code",
   "execution_count": 449,
   "id": "e1ae46a4",
   "metadata": {},
   "outputs": [
    {
     "name": "stdout",
     "output_type": "stream",
     "text": [
      "MSE: 1314854.025\n",
      "MAE: 532.679\n",
      "RMSE: 1146.671\n",
      "R2 Score: 0.97\n"
     ]
    }
   ],
   "source": [
    "mse = mean_squared_error(y_test, y_pred)\n",
    "mae = mean_absolute_error(y_test, y_pred)\n",
    "\n",
    "# calculate the root mean squared error (RMSE)\n",
    "rmse = np.sqrt(mse)\n",
    "\n",
    "print(\"MSE: {:.3f}\".format(mse))\n",
    "print(\"MAE: {:.3f}\".format(mae))\n",
    "print(\"RMSE: {:.3f}\".format(rmse))\n",
    "\n",
    "score = r2_score(y_test, y_pred)\n",
    "print(\"R2 Score: {:.2f}\".format(score))"
   ]
  },
  {
   "cell_type": "code",
   "execution_count": null,
   "id": "0dde9207",
   "metadata": {},
   "outputs": [],
   "source": []
  },
  {
   "cell_type": "code",
   "execution_count": 451,
   "id": "3db5dcbe",
   "metadata": {},
   "outputs": [
    {
     "name": "stdout",
     "output_type": "stream",
     "text": [
      " R^2: 0.63\n"
     ]
    }
   ],
   "source": [
    "from sklearn.linear_model import LinearRegression\n",
    "\n",
    "reg = LinearRegression()\n",
    "\n",
    "# Fit the model to the training data\n",
    "reg.fit(X_train, y_train)\n",
    "\n",
    "# make predictions on the test set\n",
    "y_pred= reg.predict(X_test)\n",
    "\n",
    "# calculate R^2 score on the test set\n",
    "score = r2_score(y_test, y_pred)\n",
    "print(\" R^2: {:.2f}\".format(score))"
   ]
  },
  {
   "cell_type": "code",
   "execution_count": null,
   "id": "92a87355",
   "metadata": {},
   "outputs": [],
   "source": []
  },
  {
   "cell_type": "code",
   "execution_count": 414,
   "id": "363aeee5",
   "metadata": {},
   "outputs": [
    {
     "name": "stdout",
     "output_type": "stream",
     "text": [
      "R^2: 0.63\n"
     ]
    }
   ],
   "source": [
    "from sklearn.linear_model import Lasso\n",
    "# Create the Lasso model\n",
    "lasso = Lasso(alpha=0.1)\n",
    "\n",
    "# Fit the model to the training data\n",
    "lasso.fit(X_train, y_train)\n",
    "\n",
    "# make predictions on the test set\n",
    "y_pred = lasso.predict(X_test)\n",
    "\n",
    "# calculate R^2 score on the test set\n",
    "score = r2_score(y_test, y_pred)\n",
    "print(\"R^2: {:.2f}\".format(score))"
   ]
  },
  {
   "cell_type": "code",
   "execution_count": null,
   "id": "6092dab2",
   "metadata": {},
   "outputs": [],
   "source": []
  },
  {
   "cell_type": "code",
   "execution_count": 415,
   "id": "f8428fe6",
   "metadata": {},
   "outputs": [
    {
     "name": "stdout",
     "output_type": "stream",
     "text": [
      "Ridge R^2: 0.63\n"
     ]
    }
   ],
   "source": [
    "from sklearn.linear_model import Ridge, ElasticNet\n",
    "\n",
    "# Create the Ridge model\n",
    "ridge = Ridge(alpha=0.1)\n",
    "\n",
    "# Fit the model to the training data\n",
    "ridge.fit(X_train, y_train)\n",
    "\n",
    "# make predictions on the test set\n",
    "y_pred_ridge = ridge.predict(X_test)\n",
    "\n",
    "# calculate R^2 score on the test set\n",
    "score = r2_score(y_test, y_pred_ridge)\n",
    "print(\"Ridge R^2: {:.2f}\".format(score))\n"
   ]
  },
  {
   "cell_type": "code",
   "execution_count": null,
   "id": "268705a1",
   "metadata": {},
   "outputs": [],
   "source": []
  },
  {
   "cell_type": "code",
   "execution_count": 416,
   "id": "d33aa8f2",
   "metadata": {},
   "outputs": [
    {
     "name": "stdout",
     "output_type": "stream",
     "text": [
      "ElasticNet R^2: 0.72\n"
     ]
    }
   ],
   "source": [
    "elastic_net = ElasticNet(alpha=0.1, l1_ratio=0.5)\n",
    "\n",
    "# Fit the model to the training data\n",
    "elastic_net.fit(X_train, y_train)\n",
    "\n",
    "# make predictions on the test set\n",
    "y_pred_elastic = elastic_net.predict(X_test)\n",
    "\n",
    "# calculate R^2 score on the test set\n",
    "score = r2_score(y_test, y_pred_elastic)\n",
    "print(\"ElasticNet R^2: {:.2f}\".format(score))"
   ]
  },
  {
   "cell_type": "code",
   "execution_count": null,
   "id": "d84ad7aa",
   "metadata": {},
   "outputs": [],
   "source": []
  },
  {
   "cell_type": "code",
   "execution_count": null,
   "id": "298e73e4",
   "metadata": {},
   "outputs": [],
   "source": []
  },
  {
   "cell_type": "code",
   "execution_count": null,
   "id": "badce4f8",
   "metadata": {},
   "outputs": [],
   "source": []
  },
  {
   "cell_type": "code",
   "execution_count": null,
   "id": "8c1e477d",
   "metadata": {},
   "outputs": [],
   "source": []
  },
  {
   "cell_type": "code",
   "execution_count": null,
   "id": "14daf635",
   "metadata": {},
   "outputs": [],
   "source": []
  },
  {
   "cell_type": "code",
   "execution_count": null,
   "id": "55680e74",
   "metadata": {},
   "outputs": [],
   "source": []
  }
 ],
 "metadata": {
  "kernelspec": {
   "display_name": "Python 3 (ipykernel)",
   "language": "python",
   "name": "python3"
  },
  "language_info": {
   "codemirror_mode": {
    "name": "ipython",
    "version": 3
   },
   "file_extension": ".py",
   "mimetype": "text/x-python",
   "name": "python",
   "nbconvert_exporter": "python",
   "pygments_lexer": "ipython3",
   "version": "3.9.13"
  }
 },
 "nbformat": 4,
 "nbformat_minor": 5
}
